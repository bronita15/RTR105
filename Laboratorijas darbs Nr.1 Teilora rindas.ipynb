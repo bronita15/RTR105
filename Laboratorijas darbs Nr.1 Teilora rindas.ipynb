{
 "cells": [
  {
   "cell_type": "code",
   "execution_count": 8,
   "metadata": {},
   "outputs": [
    {
     "name": "stdout",
     "output_type": "stream",
     "text": [
      "(1-x)*exp(-x) aprekinasana: \n",
      "Lietotaj, ludzu, ievadi argumentu (x): -2\n",
      "(1-x)*exp(-x) (-2.00) =  22.17\n",
      "Izdruka no lief.f. a0 =   1.00 S0 =   3.00\n",
      "a499 =   0.00 S499 =   9.39\n",
      "a500 =   0.00 S500 =   9.39\n",
      "(1-x)*exp(-x) (-2.00) caur summu:   9.39\n",
      " \n",
      "                         1000                             \n",
      "                       _________                          \n",
      "                       \\                k          k      \n",
      "                        \\           (-1)     *   x        \n",
      "         (1-x)*exp(-x) = >         __________________     \n",
      "                        /                                 \n",
      "                       /_________           k!            \n",
      "                          k=0                             \n",
      "                                                          \n",
      "                                                          \n",
      "                                       (-1) *  x          \n",
      "            Rekurences reizinatajs:    ____________       \n",
      "                                                          \n",
      "                                            k             \n"
     ]
    }
   ],
   "source": [
    "#_*_ coding: utf-8 -*-\n",
    "from math import exp\n",
    "\n",
    "def mans_exp(x):\n",
    "    k = 0\n",
    "    a = ((-1)**k*x**k)/(1)\n",
    "    S = (1-x) * a\n",
    "    print(\"Izdruka no lief.f. a0 = %6.2f S0 = %6.2f\"%(a,S))\n",
    "    \n",
    "    while k < 1000:\n",
    "        k = k + 1\n",
    "        R = ((-1)*x)/k\n",
    "        a = a * R\n",
    "        S = S + a\n",
    "        if k == 499:\n",
    "            print(\"a%d = %6.2f S%d = %6.2f\"%(k,a,k,S))\n",
    "        elif k == 500:\n",
    "            print(\"a%d = %6.2f S%d = %6.2f\"%(k,a,k,S))\n",
    "\n",
    "    return S\n",
    "\n",
    "print(\"(1-x)*exp(-x) aprekinasana: \")\n",
    "x = float(input(\"Lietotaj, ludzu, ievadi argumentu (x): \"))\n",
    "y = (1-x)*exp(-x)\n",
    "print(\"(1-x)*exp(-x) (%.2f) = %6.2f\"%(x,y))\n",
    "\n",
    "yy = mans_exp(x)\n",
    "print(\"(1-x)*exp(-x) (%.2f) caur summu: %6.2f\"%(x,yy))\n",
    "\n",
    "print(\" \")\n",
    "print(\"                         1000                             \")\n",
    "print(\"                       _________                          \")\n",
    "print(\"                       \\                k          k      \")\n",
    "print(\"                        \\           (-1)     *   x        \")\n",
    "print(\"         (1-x)*exp(-x) = >         __________________     \")\n",
    "print(\"                        /                                 \")\n",
    "print(\"                       /_________           k!            \")\n",
    "print(\"                          k=0                             \")\n",
    "print(\"                                                          \")\n",
    "print(\"                                                          \")\n",
    "print(\"                                       (-1) *  x          \")\n",
    "print(\"            Rekurences reizinatajs:    ____________       \")\n",
    "print(\"                                                          \")\n",
    "print(\"                                            k             \")\n"
   ]
  },
  {
   "cell_type": "code",
   "execution_count": null,
   "metadata": {},
   "outputs": [],
   "source": []
  },
  {
   "cell_type": "code",
   "execution_count": null,
   "metadata": {},
   "outputs": [],
   "source": []
  }
 ],
 "metadata": {
  "kernelspec": {
   "display_name": "Python 3",
   "language": "python",
   "name": "python3"
  },
  "language_info": {
   "codemirror_mode": {
    "name": "ipython",
    "version": 3
   },
   "file_extension": ".py",
   "mimetype": "text/x-python",
   "name": "python",
   "nbconvert_exporter": "python",
   "pygments_lexer": "ipython3",
   "version": "3.6.7"
  }
 },
 "nbformat": 4,
 "nbformat_minor": 2
}
